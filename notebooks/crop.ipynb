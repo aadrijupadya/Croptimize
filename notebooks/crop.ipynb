{
 "cells": [
  {
   "cell_type": "code",
   "execution_count": null,
   "id": "9b2a104c",
   "metadata": {},
   "outputs": [],
   "source": [
    "import numpy as np\n",
    "import pandas as pd\n",
    "from xgboost import XGBClassifier\n",
    "from sklearn.model_selection import train_test_split\n",
    "from sklearn.metrics import accuracy_score\n",
    "from sklearn.preprocessing import LabelEncoder"
   ]
  },
  {
   "cell_type": "code",
   "execution_count": null,
   "id": "402f2cd0",
   "metadata": {},
   "outputs": [],
   "source": [
    "df =pd.read_csv('/Users/aadrijupadya/Downloads/archive/US_counties_COVID19_health_weather_data.csv')"
   ]
  },
  {
   "cell_type": "code",
   "execution_count": null,
   "id": "8e8905eb",
   "metadata": {},
   "outputs": [],
   "source": [
    "df2 = df[['date', 'county', 'state', 'lat', 'lon', 'mean_temp', 'min_temp', 'max_temp', 'dewpoint', 'precipitation', 'rain', 'sea_level_pressure', 'visibility', 'wind_speed', 'max_wind_speed', 'wind_gust', 'precipitation', 'precip_flag', 'fog', 'snow', 'hail', 'thunder', 'tornado']]"
   ]
  },
  {
   "cell_type": "code",
   "execution_count": null,
   "id": "885c4532",
   "metadata": {},
   "outputs": [],
   "source": [
    "for i in df.columns:\n",
    "    print(i)"
   ]
  },
  {
   "cell_type": "code",
   "execution_count": null,
   "id": "3f1f94e2",
   "metadata": {},
   "outputs": [],
   "source": [
    "df2"
   ]
  },
  {
   "cell_type": "code",
   "execution_count": null,
   "id": "f6dcde56",
   "metadata": {},
   "outputs": [],
   "source": [
    "for i in df.columns:\n",
    "    print(i)"
   ]
  },
  {
   "cell_type": "code",
   "execution_count": null,
   "id": "559b066f",
   "metadata": {},
   "outputs": [],
   "source": [
    "a = a[a['Element'] == 'Gross per capita Production Index Number (2014-2016 = 100)']"
   ]
  },
  {
   "cell_type": "code",
   "execution_count": null,
   "id": "05342253",
   "metadata": {},
   "outputs": [],
   "source": [
    "a"
   ]
  },
  {
   "cell_type": "code",
   "execution_count": null,
   "id": "ce15dff8",
   "metadata": {},
   "outputs": [],
   "source": [
    "a"
   ]
  },
  {
   "cell_type": "code",
   "execution_count": null,
   "id": "67ec7486",
   "metadata": {},
   "outputs": [],
   "source": [
    "df['Item'].value_counts()"
   ]
  },
  {
   "cell_type": "code",
   "execution_count": null,
   "id": "02a14b5f",
   "metadata": {},
   "outputs": [],
   "source": [
    "df"
   ]
  },
  {
   "cell_type": "code",
   "execution_count": null,
   "id": "53eb0a13",
   "metadata": {},
   "outputs": [],
   "source": [
    "crop_df = pd.read_csv('/Users/aadrijupadya/Downloads/county_production.csv')"
   ]
  },
  {
   "cell_type": "code",
   "execution_count": null,
   "id": "591e9bdf",
   "metadata": {},
   "outputs": [],
   "source": [
    "crop_df.iloc[i]['Data Item']"
   ]
  },
  {
   "cell_type": "code",
   "execution_count": null,
   "id": "a3727d35",
   "metadata": {},
   "outputs": [],
   "source": [
    "crop_df"
   ]
  },
  {
   "cell_type": "code",
   "execution_count": null,
   "id": "db7c99a6",
   "metadata": {},
   "outputs": [],
   "source": [
    "nums = crop_df.values"
   ]
  },
  {
   "cell_type": "code",
   "execution_count": null,
   "id": "11f3eabd",
   "metadata": {},
   "outputs": [],
   "source": [
    "nums[8]"
   ]
  },
  {
   "cell_type": "code",
   "execution_count": null,
   "id": "33ba575f",
   "metadata": {},
   "outputs": [],
   "source": [
    "crop_df"
   ]
  },
  {
   "cell_type": "code",
   "execution_count": null,
   "id": "49ca233d",
   "metadata": {},
   "outputs": [],
   "source": [
    "x = nums[:,(9,16)]\n",
    "y = nums[:, 19]"
   ]
  },
  {
   "cell_type": "code",
   "execution_count": null,
   "id": "b535d114",
   "metadata": {},
   "outputs": [],
   "source": [
    "x"
   ]
  },
  {
   "cell_type": "code",
   "execution_count": null,
   "id": "cdc6bf03",
   "metadata": {},
   "outputs": [],
   "source": [
    "label_encoded_x"
   ]
  },
  {
   "cell_type": "code",
   "execution_count": null,
   "id": "19957802",
   "metadata": {},
   "outputs": [],
   "source": [
    "x"
   ]
  },
  {
   "cell_type": "code",
   "execution_count": null,
   "id": "4a2cb288",
   "metadata": {},
   "outputs": [],
   "source": [
    "{'state'}"
   ]
  },
  {
   "cell_type": "code",
   "execution_count": null,
   "id": "d84a224f",
   "metadata": {},
   "outputs": [],
   "source": [
    "y"
   ]
  },
  {
   "cell_type": "code",
   "execution_count": null,
   "id": "cde245f4",
   "metadata": {},
   "outputs": [],
   "source": [
    "label_encoder = LabelEncoder()\n",
    "label_encoder = label_encoder.fit(x)\n",
    "label_encoded_x = label_encoder.transform(x)"
   ]
  },
  {
   "cell_type": "code",
   "execution_count": null,
   "id": "edb36b81",
   "metadata": {},
   "outputs": [],
   "source": [
    "test = x.reshape((len(x)*2,1))"
   ]
  },
  {
   "cell_type": "code",
   "execution_count": null,
   "id": "f2de029e",
   "metadata": {},
   "outputs": [],
   "source": [
    "label_encoder = LabelEncoder()\n",
    "label_encoder = label_encoder.fit(test)\n",
    "label_encoded_x = label_encoder.transform(test)"
   ]
  },
  {
   "cell_type": "code",
   "execution_count": null,
   "id": "9bce052f",
   "metadata": {},
   "outputs": [],
   "source": [
    "b = label_encoded_x.reshape((8714,2))"
   ]
  },
  {
   "cell_type": "code",
   "execution_count": null,
   "id": "74859520",
   "metadata": {},
   "outputs": [],
   "source": [
    "b"
   ]
  },
  {
   "cell_type": "code",
   "execution_count": null,
   "id": "df797f68",
   "metadata": {},
   "outputs": [],
   "source": [
    "from numpy import loadtxt\n",
    "import xgboost\n",
    "from xgboost import *\n",
    "from sklearn.model_selection import train_test_split\n",
    "from sklearn.metrics import accuracy_score\n",
    "from sklearn.preprocessing import LabelEncoder\n",
    "from sklearn import model_selection\n",
    "from sklearn.model_selection import cross_val_score\n",
    "from sklearn.model_selection import RepeatedKFold\n",
    "from xgboost import XGBRegressor"
   ]
  },
  {
   "cell_type": "code",
   "execution_count": null,
   "id": "f0f38701",
   "metadata": {},
   "outputs": [],
   "source": [
    "crop_df.columns"
   ]
  },
  {
   "cell_type": "code",
   "execution_count": null,
   "id": "4c5f8541",
   "metadata": {},
   "outputs": [],
   "source": [
    "y = np.array(y)"
   ]
  },
  {
   "cell_type": "code",
   "execution_count": null,
   "id": "537f5d01",
   "metadata": {},
   "outputs": [],
   "source": [
    "new_y = []\n",
    "for i in y:\n",
    "    list1 = []\n",
    "    for a in i:\n",
    "        a = a.replace(',', '')\n",
    "        list1.append(a)\n",
    "    new_y.append(list1)"
   ]
  },
  {
   "cell_type": "code",
   "execution_count": null,
   "id": "b28e37e9",
   "metadata": {},
   "outputs": [],
   "source": [
    "new_y = np.array(new_y)"
   ]
  },
  {
   "cell_type": "code",
   "execution_count": null,
   "id": "b51c83fb",
   "metadata": {},
   "outputs": [],
   "source": [
    "new_y = [float(i) for i in new_y]"
   ]
  },
  {
   "cell_type": "code",
   "execution_count": null,
   "id": "a279c23d",
   "metadata": {},
   "outputs": [],
   "source": [
    "new_y = [[i] for i in new_y]"
   ]
  },
  {
   "cell_type": "code",
   "execution_count": null,
   "id": "6eefce23",
   "metadata": {},
   "outputs": [],
   "source": [
    "new_y = np.array(new_y)"
   ]
  },
  {
   "cell_type": "code",
   "execution_count": null,
   "id": "bbe2725f",
   "metadata": {},
   "outputs": [],
   "source": [
    "seed = 7\n",
    "test_size = 0.33\n",
    "X_train, X_test, y_train, y_test = model_selection.train_test_split(b, new_y, test_size=test_size, random_state=seed)"
   ]
  },
  {
   "cell_type": "code",
   "execution_count": null,
   "id": "6b190058",
   "metadata": {},
   "outputs": [],
   "source": [
    "model = XGBRegressor(seed=20,objective='count:poisson')\n",
    "# cv = RepeatedKFold(n_splits=10, n_repeats=3, random_state=1)\n",
    "# scores = cross_val_score(model, X_train, y_train, scoring='neg_root_mean_squared_error', cv=cv, n_jobs=-1)\n"
   ]
  },
  {
   "cell_type": "code",
   "execution_count": null,
   "id": "e2dcfc87",
   "metadata": {},
   "outputs": [],
   "source": [
    "params = { 'max_depth': [3, 5, 6, 10, 15, 20],\n",
    "           'learning_rate': [0.01, 0.1, 0.2, 0.3],\n",
    "           'subsample': np.arange(0.5, 1.0, 0.1),\n",
    "           'colsample_bytree': np.arange(0.4, 1.0, 0.1),\n",
    "           'colsample_bylevel': np.arange(0.4, 1.0, 0.1),\n",
    "           'n_estimators': [100, 500, 1000] \n",
    "         objective='count'}\n",
    "clf = RandomizedSearchCV(estimator=model, param_distributions=params, scoring='neg_root_mean_squared_error', n_iter=25,verbose=1)"
   ]
  },
  {
   "cell_type": "code",
   "execution_count": null,
   "id": "8429a9a1",
   "metadata": {},
   "outputs": [],
   "source": [
    "clf.fit(X_train,y_train)"
   ]
  },
  {
   "cell_type": "code",
   "execution_count": null,
   "id": "22ccb072",
   "metadata": {},
   "outputs": [],
   "source": [
    "print(\"Best parameters:\", clf.best_params_)\n",
    "print(\"Lowest RMSE: \", (-clf.best_score_)**(1/2.0))"
   ]
  },
  {
   "cell_type": "code",
   "execution_count": null,
   "id": "8f537170",
   "metadata": {},
   "outputs": [],
   "source": [
    "model = XGBRegressor(objective='count:poisson', subsample=0.8, n_estimators=1000, max_depth=6, learning_rate=0.1, colsample_bytree=0.6, colsample_bylevel=0.9)\n"
   ]
  },
  {
   "cell_type": "code",
   "execution_count": null,
   "id": "5f6a27a1",
   "metadata": {},
   "outputs": [],
   "source": [
    "model.fit(X_train, y_train)\n",
    "y_pred = model.predict(X_test)"
   ]
  },
  {
   "cell_type": "code",
   "execution_count": null,
   "id": "380ba428",
   "metadata": {},
   "outputs": [],
   "source": [
    "y_pred"
   ]
  },
  {
   "cell_type": "code",
   "execution_count": null,
   "id": "285eab98",
   "metadata": {},
   "outputs": [],
   "source": [
    "y_test"
   ]
  },
  {
   "cell_type": "code",
   "execution_count": null,
   "id": "8ba82aaf",
   "metadata": {},
   "outputs": [],
   "source": [
    "zeroes = []\n",
    "for i in range(len(y_test)):\n",
    "    if y_test[i] == 0.0:\n",
    "        zeroes.append(i)\n",
    "        "
   ]
  },
  {
   "cell_type": "code",
   "execution_count": null,
   "id": "72dac8d1",
   "metadata": {},
   "outputs": [],
   "source": [
    "y_pred[10]"
   ]
  },
  {
   "cell_type": "code",
   "execution_count": null,
   "id": "e4a4d9b2",
   "metadata": {},
   "outputs": [],
   "source": [
    "y_test[10]"
   ]
  },
  {
   "cell_type": "code",
   "execution_count": null,
   "id": "2b253f58",
   "metadata": {},
   "outputs": [],
   "source": [
    "y_test[200]"
   ]
  },
  {
   "cell_type": "code",
   "execution_count": null,
   "id": "36c6d8ca",
   "metadata": {},
   "outputs": [],
   "source": [
    "y_pred[2743]"
   ]
  },
  {
   "cell_type": "code",
   "execution_count": null,
   "id": "6942e0ed",
   "metadata": {},
   "outputs": [],
   "source": [
    "yhat = model.predict(X_test)\n"
   ]
  },
  {
   "cell_type": "code",
   "execution_count": null,
   "id": "1f50b70b",
   "metadata": {},
   "outputs": [],
   "source": [
    "yhat"
   ]
  },
  {
   "cell_type": "code",
   "execution_count": null,
   "id": "a650c19f",
   "metadata": {},
   "outputs": [],
   "source": [
    "y_test[0]"
   ]
  },
  {
   "cell_type": "code",
   "execution_count": null,
   "id": "d470b254",
   "metadata": {},
   "outputs": [],
   "source": [
    "yhat[0]"
   ]
  },
  {
   "cell_type": "code",
   "execution_count": null,
   "id": "9d411d71",
   "metadata": {},
   "outputs": [],
   "source": [
    "X_test =="
   ]
  },
  {
   "cell_type": "code",
   "execution_count": null,
   "id": "ff8d48c8",
   "metadata": {},
   "outputs": [],
   "source": [
    "county_dict = {}\n"
   ]
  },
  {
   "cell_type": "code",
   "execution_count": null,
   "id": "d5d2b76e",
   "metadata": {},
   "outputs": [],
   "source": [
    "b"
   ]
  },
  {
   "cell_type": "code",
   "execution_count": null,
   "id": "27d85e38",
   "metadata": {},
   "outputs": [],
   "source": [
    "item_dict = {}"
   ]
  },
  {
   "cell_type": "code",
   "execution_count": null,
   "id": "50635a24",
   "metadata": {},
   "outputs": [],
   "source": [
    "for i in range(0,len(x)):\n",
    "    county_dict[b[i][0]] = x[i][0]\n",
    "    item_dict[b[i][1]] = x[i][1]\n",
    "        \n",
    "        \n",
    "    "
   ]
  },
  {
   "cell_type": "code",
   "execution_count": null,
   "id": "8dd410dc",
   "metadata": {},
   "outputs": [],
   "source": [
    "len(county_dict)"
   ]
  },
  {
   "cell_type": "code",
   "execution_count": null,
   "id": "e0fd3406",
   "metadata": {},
   "outputs": [],
   "source": [
    "item_dict"
   ]
  },
  {
   "cell_type": "code",
   "execution_count": null,
   "id": "18c8cdb6",
   "metadata": {},
   "outputs": [],
   "source": [
    "a = county_dict[X_test[2][0]]"
   ]
  },
  {
   "cell_type": "code",
   "execution_count": null,
   "id": "ed3c5b0d",
   "metadata": {},
   "outputs": [],
   "source": [
    "a"
   ]
  },
  {
   "cell_type": "code",
   "execution_count": null,
   "id": "609feaab",
   "metadata": {},
   "outputs": [],
   "source": [
    "a, b = county_dict[X_test[2][0]], item_dict[X_test[2][1]]"
   ]
  },
  {
   "cell_type": "code",
   "execution_count": null,
   "id": "0702ff96",
   "metadata": {},
   "outputs": [],
   "source": [
    "a, b"
   ]
  },
  {
   "cell_type": "code",
   "execution_count": null,
   "id": "3e8973fc",
   "metadata": {},
   "outputs": [],
   "source": [
    "yhat[6]"
   ]
  },
  {
   "cell_type": "code",
   "execution_count": null,
   "id": "ece84ad7",
   "metadata": {},
   "outputs": [],
   "source": [
    "y_test[6]"
   ]
  },
  {
   "cell_type": "code",
   "execution_count": null,
   "id": "33b662a3",
   "metadata": {},
   "outputs": [],
   "source": []
  }
 ],
 "metadata": {
  "kernelspec": {
   "display_name": "Python 3 (ipykernel)",
   "language": "python",
   "name": "python3"
  },
  "language_info": {
   "codemirror_mode": {
    "name": "ipython",
    "version": 3
   },
   "file_extension": ".py",
   "mimetype": "text/x-python",
   "name": "python",
   "nbconvert_exporter": "python",
   "pygments_lexer": "ipython3",
   "version": "3.8.8"
  }
 },
 "nbformat": 4,
 "nbformat_minor": 5
}
