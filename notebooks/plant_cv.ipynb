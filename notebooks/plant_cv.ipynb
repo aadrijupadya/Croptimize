{
  "cells": [
    {
      "cell_type": "code",
      "execution_count": null,
      "metadata": {
        "id": "A3M-rWSm6Hnr"
      },
      "outputs": [],
      "source": [
        "import numpy as np\n",
        "import pandas as pd \n",
        "import matplotlib.pyplot as plt\n",
        "import tensorflow as tf\n",
        "from tensorflow.keras import layers\n",
        "from time import perf_counter \n",
        "import os\n",
        "  "
      ]
    },
    {
      "cell_type": "code",
      "execution_count": null,
      "metadata": {
        "id": "oEU-GKQbD_zT"
      },
      "outputs": [],
      "source": [
        "import zipfile\n",
        "!unzip /content/archive-3.zip"
      ]
    },
    {
      "cell_type": "code",
      "execution_count": null,
      "metadata": {
        "colab": {
          "base_uri": "https://localhost:8080/"
        },
        "id": "JNdS8agOFBw3",
        "outputId": "1366879a-d8ed-42c3-a436-74c124ec20e1"
      },
      "outputs": [],
      "source": [
        "training_ds = tf.keras.preprocessing.image_dataset_from_directory(\n",
        "    '/content/archive-3/New Plant Diseases Dataset(Augmented)/New Plant Diseases Dataset(Augmented)/train',\n",
        "    seed=42,\n",
        "    image_size= (250, 250),\n",
        "    batch_size=100\n",
        "\n",
        ")"
      ]
    },
    {
      "cell_type": "code",
      "execution_count": null,
      "metadata": {
        "colab": {
          "base_uri": "https://localhost:8080/"
        },
        "id": "lDBIfRQVKGcs",
        "outputId": "c39e4e45-b4b9-4791-a808-9e4d6ff1627c"
      },
      "outputs": [],
      "source": [
        "validation_ds = tf.keras.preprocessing.image_dataset_from_directory(\n",
        "    '/content/archive-3/New Plant Diseases Dataset(Augmented)/New Plant Diseases Dataset(Augmented)/valid',\n",
        "    seed=42,\n",
        "    image_size= (250, 250),\n",
        "    batch_size=100\n",
        "\n",
        ")"
      ]
    },
    {
      "cell_type": "code",
      "execution_count": null,
      "metadata": {
        "id": "urc7AJfjKMFo"
      },
      "outputs": [],
      "source": [
        "model = tf.keras.models.Sequential([\n",
        "    tf.keras.layers.BatchNormalization(),\n",
        "    tf.keras.layers.Conv2D(32,3,activation='relu'),\n",
        "    tf.keras.layers.MaxPool2D(),\n",
        "    tf.keras.layers.Conv2D(64,3,activation='relu'),\n",
        "    tf.keras.layers.MaxPool2D(),\n",
        "    tf.keras.layers.Conv2D(128,3,activation='relu'),\n",
        "    tf.keras.layers.MaxPool2D(),\n",
        "    tf.keras.layers.Flatten(),\n",
        "    tf.keras.layers.Dense(256, activation='relu'),\n",
        "    tf.keras.layers.Dense(len(training_ds.class_names), activation= 'softmax')\n",
        "\n",
        "\n",
        "])"
      ]
    },
    {
      "cell_type": "code",
      "execution_count": null,
      "metadata": {
        "id": "YK1kX4B-LC9D"
      },
      "outputs": [],
      "source": [
        "model.compile(optimizer='adam',loss='sparse_categorical_crossentropy', metrics=['accuracy'])\n"
      ]
    },
    {
      "cell_type": "code",
      "execution_count": null,
      "metadata": {
        "id": "5dGAUN2jLOnb"
      },
      "outputs": [],
      "source": [
        "from keras.callbacks import EarlyStopping\n",
        "es = EarlyStopping(\n",
        "    monitor='val_accuracy', \n",
        "    mode='max',\n",
        "    patience=5\n",
        ")"
      ]
    },
    {
      "cell_type": "code",
      "execution_count": null,
      "metadata": {
        "colab": {
          "base_uri": "https://localhost:8080/"
        },
        "id": "BgqHJUwlLhxl",
        "outputId": "06989aba-7407-40d9-c53c-899bebc724a3"
      },
      "outputs": [],
      "source": [
        "history = model.fit(training_ds, validation_data=validation_ds,epochs=5, callbacks=[es])"
      ]
    },
    {
      "cell_type": "code",
      "execution_count": null,
      "metadata": {
        "id": "3GScTa6tQG2R"
      },
      "outputs": [],
      "source": [
        "import pickle"
      ]
    },
    {
      "cell_type": "code",
      "execution_count": null,
      "metadata": {
        "id": "dRwo2_ulQbez"
      },
      "outputs": [],
      "source": [
        "filename = '/content/plant_disease_model.sav'"
      ]
    },
    {
      "cell_type": "code",
      "execution_count": null,
      "metadata": {
        "id": "bG0k8PNEQIAE"
      },
      "outputs": [],
      "source": [
        "pickle.dump(model, open(filename, 'wb'))"
      ]
    },
    {
      "cell_type": "code",
      "execution_count": null,
      "metadata": {
        "id": "F7MECTKqRUBi"
      },
      "outputs": [],
      "source": [
        "from tensorflow.python.ops.gen_data_flow_ops import resource_accumulator_take_gradient\n",
        "import PIL\n",
        "from PIL import Image \n",
        "from numpy import *\n",
        "\n",
        "def get_predictions(path):\n",
        "  img = tf.keras.utils.load_img(\n",
        "    path,\n",
        "    grayscale=False,\n",
        "    color_mode=\"rgb\",\n",
        "    target_size=(250,250),\n",
        "    interpolation=\"nearest\"\n",
        ")\n",
        "  input_arr = tf.keras.preprocessing.image.img_to_array(img)\n",
        "  input_arr = np.array([input_arr])\n",
        "   \n",
        "  predictions = loaded_model.predict(input_arr)\n",
        "  predictions_list = list(predictions[0])\n",
        "  prediction = predictions_list.index(max(predictions_list))\n",
        "  return prediction\n",
        "\n",
        "\n"
      ]
    },
    {
      "cell_type": "code",
      "execution_count": null,
      "metadata": {
        "id": "8G-Wyp7ldkLW"
      },
      "outputs": [],
      "source": [
        "loaded_model = pickle.load(open(filename, 'rb'))"
      ]
    },
    {
      "cell_type": "code",
      "execution_count": null,
      "metadata": {
        "colab": {
          "base_uri": "https://localhost:8080/"
        },
        "id": "sGJQRdWOSFpL",
        "outputId": "692d710c-6b39-47a4-c84d-15a9ba4124c7"
      },
      "outputs": [],
      "source": [
        "print(get_predictions('/content/archive-3/test/test/TomatoHealthy1.JPG'))"
      ]
    },
    {
      "cell_type": "code",
      "execution_count": null,
      "metadata": {
        "id": "Frb7ZHcLSUCm"
      },
      "outputs": [],
      "source": [
        "class_dict = {}\n",
        "for i in range(len(training_ds.class_names)):\n",
        "  class_dict[i] = training_ds.class_names[i]\n"
      ]
    },
    {
      "cell_type": "code",
      "execution_count": null,
      "metadata": {
        "colab": {
          "base_uri": "https://localhost:8080/",
          "height": 37
        },
        "id": "rJum75LqdSx3",
        "outputId": "29d2b072-ac7c-496d-c04d-f642d114265b"
      },
      "outputs": [],
      "source": [
        "class_dict[get_predictions('/content/archive-3/test/test/TomatoHealthy1.JPG')]"
      ]
    }
  ],
  "metadata": {
    "accelerator": "GPU",
    "colab": {
      "collapsed_sections": [],
      "provenance": []
    },
    "gpuClass": "standard",
    "kernelspec": {
      "display_name": "Python 3",
      "name": "python3"
    },
    "language_info": {
      "name": "python"
    }
  },
  "nbformat": 4,
  "nbformat_minor": 0
}
